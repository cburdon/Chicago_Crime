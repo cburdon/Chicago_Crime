{
 "cells": [
  {
   "cell_type": "code",
   "execution_count": 1,
   "metadata": {},
   "outputs": [],
   "source": [
    "import numpy as np\n",
    "import pandas as pd\n",
    "\n",
    "import warnings\n",
    "warnings.simplefilter('ignore',FutureWarning)"
   ]
  },
  {
   "cell_type": "code",
   "execution_count": 2,
   "metadata": {},
   "outputs": [],
   "source": [
    "crimes = pd.read_csv(\"cleaned_crime.csv\")"
   ]
  },
  {
   "cell_type": "code",
   "execution_count": 3,
   "metadata": {},
   "outputs": [
    {
     "data": {
      "text/plain": [
       "(2003836, 25)"
      ]
     },
     "execution_count": 3,
     "metadata": {},
     "output_type": "execute_result"
    }
   ],
   "source": [
    "crimes.shape"
   ]
  },
  {
   "cell_type": "code",
   "execution_count": 4,
   "metadata": {},
   "outputs": [
    {
     "data": {
      "text/plain": [
       "Index(['Unnamed: 0', 'ID', 'Case Number', 'DateTime', 'Block', 'IUCR',\n",
       "       'Primary Type', 'Description', 'Location Description', 'Arrest',\n",
       "       'Domestic', 'Beat', 'District', 'Ward', 'Community Area', 'FBI Code',\n",
       "       'X Coordinate', 'Y Coordinate', 'Year', 'Updated On', 'Latitude',\n",
       "       'Longitude', 'Location', 'Date', 'Time'],\n",
       "      dtype='object')"
      ]
     },
     "execution_count": 4,
     "metadata": {},
     "output_type": "execute_result"
    }
   ],
   "source": [
    "crimes.columns"
   ]
  },
  {
   "cell_type": "code",
   "execution_count": 5,
   "metadata": {},
   "outputs": [
    {
     "name": "stderr",
     "output_type": "stream",
     "text": [
      "Using TensorFlow backend.\n"
     ]
    }
   ],
   "source": [
    "from sklearn.model_selection import train_test_split\n",
    "from sklearn.preprocessing import OneHotEncoder, StandardScaler, LabelEncoder\n",
    "from keras.utils import to_categorical"
   ]
  },
  {
   "cell_type": "code",
   "execution_count": 6,
   "metadata": {},
   "outputs": [],
   "source": [
    "crimes[\"DateTime\"]=pd.to_datetime(crimes[\"DateTime\"], format=\"%Y-%m-%d %H:%M:%S\")"
   ]
  },
  {
   "cell_type": "code",
   "execution_count": 7,
   "metadata": {},
   "outputs": [],
   "source": [
    "crimes[\"Hour\"]=crimes[\"DateTime\"].dt.hour"
   ]
  },
  {
   "cell_type": "code",
   "execution_count": 8,
   "metadata": {},
   "outputs": [],
   "source": [
    "crimes[\"Date\"]=crimes[\"DateTime\"].dt.dayofyear"
   ]
  },
  {
   "cell_type": "code",
   "execution_count": 9,
   "metadata": {},
   "outputs": [
    {
     "data": {
      "text/plain": [
       "0                                  STREET\n",
       "1                                  STREET\n",
       "2                               APARTMENT\n",
       "3                               APARTMENT\n",
       "4                                SIDEWALK\n",
       "5                               APARTMENT\n",
       "6                               APARTMENT\n",
       "7                               APARTMENT\n",
       "8                                  STREET\n",
       "9                 RESIDENCE PORCH/HALLWAY\n",
       "10         PARKING LOT/GARAGE(NON.RESID.)\n",
       "11            CTA GARAGE / OTHER PROPERTY\n",
       "12                 DRIVEWAY - RESIDENTIAL\n",
       "13                               SIDEWALK\n",
       "14                            GAS STATION\n",
       "15                              APARTMENT\n",
       "16                                  OTHER\n",
       "17                     GROCERY FOOD STORE\n",
       "18                                  ALLEY\n",
       "19                          BAR OR TAVERN\n",
       "20                     GROCERY FOOD STORE\n",
       "21                                  OTHER\n",
       "22                                  OTHER\n",
       "23                              APARTMENT\n",
       "24                 VEHICLE NON-COMMERCIAL\n",
       "25                              APARTMENT\n",
       "26                              APARTMENT\n",
       "27                              RESIDENCE\n",
       "28                              APARTMENT\n",
       "29                RESIDENCE PORCH/HALLWAY\n",
       "                        ...              \n",
       "2003806                             OTHER\n",
       "2003807                         RESIDENCE\n",
       "2003808                       GAS STATION\n",
       "2003809                            STREET\n",
       "2003810                            STREET\n",
       "2003811                GROCERY FOOD STORE\n",
       "2003812                            STREET\n",
       "2003813           RESIDENCE PORCH/HALLWAY\n",
       "2003814                       GAS STATION\n",
       "2003815                            STREET\n",
       "2003816                            STREET\n",
       "2003817                        DRUG STORE\n",
       "2003818                         RESIDENCE\n",
       "2003819          SCHOOL, PUBLIC, BUILDING\n",
       "2003820                         RESIDENCE\n",
       "2003821                         APARTMENT\n",
       "2003822                            STREET\n",
       "2003823                             ALLEY\n",
       "2003824                            STREET\n",
       "2003825                            STREET\n",
       "2003826                         RESIDENCE\n",
       "2003827                         RESIDENCE\n",
       "2003828                         RESIDENCE\n",
       "2003829                            STREET\n",
       "2003830                            STREET\n",
       "2003831                             OTHER\n",
       "2003832                             ALLEY\n",
       "2003833                            STREET\n",
       "2003834                         APARTMENT\n",
       "2003835                            STREET\n",
       "Name: Location Description, Length: 2003836, dtype: object"
      ]
     },
     "execution_count": 9,
     "metadata": {},
     "output_type": "execute_result"
    }
   ],
   "source": [
    "crimes[\"Location Description\"].str.strip()"
   ]
  },
  {
   "cell_type": "code",
   "execution_count": 10,
   "metadata": {},
   "outputs": [],
   "source": [
    "crimes[\"Location Description\"].value_counts().head(80)#.index\n",
    "location_list = crimes[\"Location Description\"].value_counts().head(80).index"
   ]
  },
  {
   "cell_type": "code",
   "execution_count": 11,
   "metadata": {},
   "outputs": [],
   "source": [
    "crimes = crimes[crimes[\"Location Description\"].isin(location_list)]"
   ]
  },
  {
   "cell_type": "code",
   "execution_count": 12,
   "metadata": {},
   "outputs": [
    {
     "data": {
      "text/plain": [
       "(1997697, 26)"
      ]
     },
     "execution_count": 12,
     "metadata": {},
     "output_type": "execute_result"
    }
   ],
   "source": [
    "crimes.shape"
   ]
  },
  {
   "cell_type": "code",
   "execution_count": 13,
   "metadata": {},
   "outputs": [
    {
     "data": {
      "text/plain": [
       "35"
      ]
     },
     "execution_count": 13,
     "metadata": {},
     "output_type": "execute_result"
    }
   ],
   "source": [
    "len(crimes[\"Primary Type\"].value_counts())"
   ]
  },
  {
   "cell_type": "code",
   "execution_count": 14,
   "metadata": {},
   "outputs": [],
   "source": [
    "X = crimes[[\"Hour\",\"Location Description\",\"Beat\",\"Date\",\"Primary Type\"]]\n",
    "y = crimes[\"Arrest\"]"
   ]
  },
  {
   "cell_type": "code",
   "execution_count": 16,
   "metadata": {},
   "outputs": [],
   "source": [
    "X = pd.get_dummies(X,prefix=[\"Location Description\",\"Primary Type\"])"
   ]
  },
  {
   "cell_type": "code",
   "execution_count": 15,
   "metadata": {},
   "outputs": [],
   "source": [
    "# onehot = OneHotEncoder()\n",
    "# X[\"Location Description\"]=onehot.fit_transform(X[\"Location Description\"].fillna('0'))\n",
    "# X[\"Primary Type\"]=onehot.fit_transform(X[\"Primary Type\"])"
   ]
  },
  {
   "cell_type": "code",
   "execution_count": 18,
   "metadata": {},
   "outputs": [],
   "source": [
    "X_train, X_test,y_train,y_test = train_test_split(\n",
    "    X,y, random_state=42, stratify=y)\n",
    "X_scaler = StandardScaler().fit(X_train)\n",
    "X_train_scaled = X_scaler.transform(X_train)\n",
    "X_test_scaled = X_scaler.transform(X_test)\n",
    "\n",
    "label_encoder=LabelEncoder()\n",
    "label_encoder.fit(y_train)\n",
    "encoded_y_train = label_encoder.transform(y_train)\n",
    "encoded_y_test = label_encoder.transform(y_test)\n",
    "\n",
    "y_train_categorical = to_categorical(encoded_y_train)\n",
    "y_test_categorical = to_categorical(encoded_y_test)"
   ]
  },
  {
   "cell_type": "markdown",
   "metadata": {},
   "source": [
    "### Linear Regression"
   ]
  },
  {
   "cell_type": "code",
   "execution_count": 19,
   "metadata": {},
   "outputs": [],
   "source": [
    "from sklearn.linear_model import LinearRegression\n",
    "model = LinearRegression()\n",
    "\n",
    "model.fit(X_train_scaled, y_train_categorical)\n",
    "\n",
    "score1 = model.score(X_train_scaled, y_train_categorical)\n",
    "score2 = model.score(X_test_scaled, y_test_categorical)"
   ]
  },
  {
   "cell_type": "code",
   "execution_count": 20,
   "metadata": {},
   "outputs": [
    {
     "name": "stdout",
     "output_type": "stream",
     "text": [
      "0.46441130196610475\n",
      "0.4635542565771215\n"
     ]
    }
   ],
   "source": [
    "print(f\"{score1}\\n{score2}\")"
   ]
  },
  {
   "cell_type": "markdown",
   "metadata": {},
   "source": [
    "### Deep Learning"
   ]
  },
  {
   "cell_type": "code",
   "execution_count": 66,
   "metadata": {},
   "outputs": [],
   "source": [
    "from keras.models import Sequential\n",
    "from keras.layers import Dense\n",
    "\n",
    "model = Sequential()\n",
    "model.add(Dense(units=12, activation='relu', input_dim=5))\n",
    "model.add(Dense(units=20, activation='relu'))\n",
    "model.add(Dense(units=2, activation='softmax'))"
   ]
  },
  {
   "cell_type": "code",
   "execution_count": 67,
   "metadata": {},
   "outputs": [],
   "source": [
    "model.compile(optimizer='adam',\n",
    "              loss='categorical_crossentropy',\n",
    "              metrics=['accuracy'])"
   ]
  },
  {
   "cell_type": "code",
   "execution_count": null,
   "metadata": {
    "scrolled": false
   },
   "outputs": [
    {
     "name": "stdout",
     "output_type": "stream",
     "text": [
      "Epoch 1/50\n",
      " - 115s - loss: 0.3823 - acc: 0.8453\n",
      "Epoch 2/50\n",
      " - 174s - loss: 0.3534 - acc: 0.8586\n",
      "Epoch 3/50\n",
      " - 187s - loss: 0.3476 - acc: 0.8630\n",
      "Epoch 4/50\n",
      " - 194s - loss: 0.3440 - acc: 0.8653\n",
      "Epoch 5/50\n",
      " - 192s - loss: 0.3421 - acc: 0.8658\n",
      "Epoch 6/50\n",
      " - 190s - loss: 0.3412 - acc: 0.8663\n",
      "Epoch 7/50\n",
      " - 201s - loss: 0.3405 - acc: 0.8666\n",
      "Epoch 8/50\n",
      " - 203s - loss: 0.3401 - acc: 0.8668\n",
      "Epoch 9/50\n",
      " - 199s - loss: 0.3395 - acc: 0.8670\n",
      "Epoch 10/50\n",
      " - 139s - loss: 0.3393 - acc: 0.8671\n",
      "Epoch 11/50\n",
      " - 126s - loss: 0.3391 - acc: 0.8673\n",
      "Epoch 12/50\n"
     ]
    }
   ],
   "source": [
    "from keras.callbacks import EarlyStopping\n",
    "\n",
    "model.fit(\n",
    "    X_train_scaled,\n",
    "    y_train_categorical,\n",
    "    epochs=50,\n",
    "    shuffle=True,\n",
    "    verbose=2,\n",
    "    callbacks=[EarlyStopping(monitor='acc', patience=10, verbose=2)]\n",
    ")"
   ]
  },
  {
   "cell_type": "code",
   "execution_count": null,
   "metadata": {},
   "outputs": [],
   "source": [
    "model_loss, model_accuracy = model.evaluate(\n",
    "    X_test_scaled, y_test_categorical, verbose=2)\n",
    "print(\n",
    "    f\"Normal Neural Network - Loss: {model_loss}, Accuracy: {model_accuracy}\")"
   ]
  },
  {
   "cell_type": "code",
   "execution_count": null,
   "metadata": {},
   "outputs": [],
   "source": [
    "model.save(\"CHA_crime_trained_onehot.h5\")"
   ]
  },
  {
   "cell_type": "code",
   "execution_count": null,
   "metadata": {},
   "outputs": [],
   "source": []
  }
 ],
 "metadata": {
  "kernelspec": {
   "display_name": "Python 3",
   "language": "python",
   "name": "python3"
  },
  "language_info": {
   "codemirror_mode": {
    "name": "ipython",
    "version": 3
   },
   "file_extension": ".py",
   "mimetype": "text/x-python",
   "name": "python",
   "nbconvert_exporter": "python",
   "pygments_lexer": "ipython3",
   "version": "3.6.4"
  }
 },
 "nbformat": 4,
 "nbformat_minor": 2
}
